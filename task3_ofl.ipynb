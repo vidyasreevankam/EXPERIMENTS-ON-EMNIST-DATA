{
  "nbformat": 4,
  "nbformat_minor": 0,
  "metadata": {
    "colab": {
      "name": "task3@ofl.ipynb",
      "provenance": [],
      "collapsed_sections": []
    },
    "kernelspec": {
      "name": "python3",
      "display_name": "Python 3"
    },
    "accelerator": "GPU"
  },
  "cells": [
    {
      "cell_type": "code",
      "metadata": {
        "id": "-rjzvmwX9TrU",
        "colab_type": "code",
        "outputId": "e974f88e-70ab-491f-8a22-05870d4cfa31",
        "colab": {
          "base_uri": "https://localhost:8080/",
          "height": 127
        }
      },
      "source": [
        "from google.colab import drive\n",
        "drive.mount('/content/drive')"
      ],
      "execution_count": 2,
      "outputs": [
        {
          "output_type": "stream",
          "text": [
            "Go to this URL in a browser: https://accounts.google.com/o/oauth2/auth?client_id=947318989803-6bn6qk8qdgf4n4g3pfee6491hc0brc4i.apps.googleusercontent.com&redirect_uri=urn%3Aietf%3Awg%3Aoauth%3A2.0%3Aoob&scope=email%20https%3A%2F%2Fwww.googleapis.com%2Fauth%2Fdocs.test%20https%3A%2F%2Fwww.googleapis.com%2Fauth%2Fdrive%20https%3A%2F%2Fwww.googleapis.com%2Fauth%2Fdrive.photos.readonly%20https%3A%2F%2Fwww.googleapis.com%2Fauth%2Fpeopleapi.readonly&response_type=code\n",
            "\n",
            "Enter your authorization code:\n",
            "··········\n",
            "Mounted at /content/drive\n"
          ],
          "name": "stdout"
        }
      ]
    },
    {
      "cell_type": "code",
      "metadata": {
        "id": "eamlEmYp9cgs",
        "colab_type": "code",
        "colab": {}
      },
      "source": [
        "import numpy as np\n",
        "import pandas as pd"
      ],
      "execution_count": 0,
      "outputs": []
    },
    {
      "cell_type": "code",
      "metadata": {
        "id": "9C0C45w19lvu",
        "colab_type": "code",
        "colab": {}
      },
      "source": [
        "#LOADING TRAIN DATA THROUGH ZIP FILE\n",
        "import zipfile\n",
        "from google.colab import drive\n",
        "\n",
        "zip_ref = zipfile.ZipFile(\"/content/drive/My Drive/Character + Digits data.zip/Character + Digits data/characters-digits-train.zip\", 'r')#LOCATION OF FILE\n",
        "zip_ref.extractall(\"/content/emnist\")#EXTRACT TO EMNIST FOLDER\n",
        "zip_ref.close()"
      ],
      "execution_count": 0,
      "outputs": []
    },
    {
      "cell_type": "code",
      "metadata": {
        "id": "dV_gVxrP9o4P",
        "colab_type": "code",
        "colab": {}
      },
      "source": [
        "#LOADING TEST DATA THROUGH ZIP FILE\n",
        "import zipfile\n",
        "from google.colab import drive\n",
        "zip_ref = zipfile.ZipFile(\"/content/drive/My Drive/Character + Digits data.zip/Character + Digits data/characters-digits-test.zip\", 'r')#LOCATION OF FILE\n",
        "zip_ref.extractall(\"/content/emnist\")#EXTRACT TO EMNIST FOLDER\n",
        "zip_ref.close()\n"
      ],
      "execution_count": 0,
      "outputs": []
    },
    {
      "cell_type": "code",
      "metadata": {
        "id": "kwteY29N9tQk",
        "colab_type": "code",
        "colab": {}
      },
      "source": [
        "from tensorflow import keras\n",
        "import matplotlib.pyplot as plt"
      ],
      "execution_count": 0,
      "outputs": []
    },
    {
      "cell_type": "code",
      "metadata": {
        "id": "rmI2quRW9yKa",
        "colab_type": "code",
        "colab": {}
      },
      "source": [
        "train_data_path = '/content/emnist/characters-digits-train.csv'#PATH OF TRAIN DATA\n",
        "test_data_path = '/content/emnist/characters-digits-test.csv'#PATH OF TEST DATA"
      ],
      "execution_count": 0,
      "outputs": []
    },
    {
      "cell_type": "code",
      "metadata": {
        "id": "ER79i3g194KU",
        "colab_type": "code",
        "colab": {}
      },
      "source": [
        "train_data = pd.read_csv(train_data_path, header=None)"
      ],
      "execution_count": 0,
      "outputs": []
    },
    {
      "cell_type": "code",
      "metadata": {
        "id": "gyemArVa-S0O",
        "colab_type": "code",
        "colab": {}
      },
      "source": [
        "class_mapping = '0123456789ABCDEFGHIJKLMNOPQRSTUVWXYZabdefghnqrt'"
      ],
      "execution_count": 0,
      "outputs": []
    },
    {
      "cell_type": "code",
      "metadata": {
        "id": "DxbPlLm0-UVz",
        "colab_type": "code",
        "outputId": "75afacb8-5fb7-41a0-9934-c719cc7eb559",
        "colab": {
          "base_uri": "https://localhost:8080/",
          "height": 521
        }
      },
      "source": [
        "num_classes = len(train_data[0].unique())\n",
        "row_num = 8\n",
        "\n",
        "plt.imshow(train_data.values[row_num, 1:].reshape([28, 28]), cmap='Greys_r')\n",
        "plt.show()\n",
        "\n",
        "img_flip = np.transpose(train_data.values[row_num,1:].reshape(28, 28), axes=[1,0]) # img_size * img_size arrays\n",
        "plt.imshow(img_flip, cmap='Greys_r')\n",
        "\n",
        "plt.show()"
      ],
      "execution_count": 0,
      "outputs": [
        {
          "output_type": "display_data",
          "data": {
            "image/png": "[encoded data removed]",
            "text/plain": [
              "<Figure size 432x288 with 1 Axes>"
            ]
          },
          "metadata": {
            "tags": []
          }
        },
        {
          "output_type": "display_data",
          "data": {
            "image/png": "[encoded data removed]",
            "text/plain": [
              "<Figure size 432x288 with 1 Axes>"
            ]
          },
          "metadata": {
            "tags": []
          }
        }
      ]
    },
    {
      "cell_type": "code",
      "metadata": {
        "id": "xiE7UFRR-Y4Z",
        "colab_type": "code",
        "colab": {}
      },
      "source": [
        "def show_img(data, row_num):\n",
        "    img_flip = np.transpose(data.values[row_num,1:].reshape(28, 28), axes=[1,0]) # img_size * img_size arrays\n",
        "    plt.title('Class: ' + str(data.values[row_num,0]) + ', Label: ' + str(class_mapping[data.values[row_num,0]]))\n",
        "    plt.imshow(img_flip, cmap='Greys_r')\n"
      ],
      "execution_count": 0,
      "outputs": []
    },
    {
      "cell_type": "code",
      "metadata": {
        "id": "nowqqdgF-fIk",
        "colab_type": "code",
        "outputId": "9d91095d-8c65-4acf-db71-7cf0dafb3ba8",
        "colab": {
          "base_uri": "https://localhost:8080/",
          "height": 281
        }
      },
      "source": [
        "show_img(train_data, 2)"
      ],
      "execution_count": 0,
      "outputs": [
        {
          "output_type": "display_data",
          "data": {
            "image/png": "[encoded data removed]",
            "text/plain": [
              "<Figure size 432x288 with 1 Axes>"
            ]
          },
          "metadata": {
            "tags": []
          }
        }
      ]
    },
    {
      "cell_type": "code",
      "metadata": {
        "id": "-I3GG0nL-rM-",
        "colab_type": "code",
        "colab": {}
      },
      "source": [
        "# 10 digits, 26 letters, and 11 capital letters that are different looking from their lowercase counterparts\n",
        "num_classes = 47 \n",
        "img_size = 28\n",
        "\n",
        "def img_label_load(data_path, num_classes=None):\n",
        "    data = pd.read_csv(data_path, header=None)\n",
        "    data_rows = len(data)\n",
        "    if not num_classes:\n",
        "        num_classes = len(data[0].unique())\n",
        "    \n",
        "    # this assumes square imgs. Should be 28x28\n",
        "    img_size = int(np.sqrt(len(data.iloc[0][1:])))\n",
        "    \n",
        "    # Images need to be transposed. This line also does the reshaping needed.\n",
        "    imgs = np.transpose(data.values[:,1:].reshape(data_rows, img_size, img_size, 1), axes=[0,2,1,3]) # img_size * img_size arrays\n",
        "    \n",
        "    labels = keras.utils.to_categorical(data.values[:,0], num_classes) # one-hot encoding vectors\n",
        "    \n",
        "    return imgs/255., labels"
      ],
      "execution_count": 0,
      "outputs": []
    },
    {
      "cell_type": "code",
      "metadata": {
        "id": "GkOIpRsaWlNc",
        "colab_type": "code",
        "outputId": "3d8921ca-7a9c-49eb-a94a-96b6afd542f2",
        "colab": {
          "base_uri": "https://localhost:8080/",
          "height": 575
        }
      },
      "source": [
        "input_shape=img_size,img_size,1\n",
        "\n",
        "model = keras.models.Sequential()\n",
        "model.add(keras.layers.Conv2D(filters=64, kernel_size=(5,5), padding = 'same', activation='relu',\\\n",
        "                 input_shape=(img_size,img_size,1)))\n",
        "model.add(keras.layers.MaxPooling2D(pool_size=(2,2), strides=(2,2)))\n",
        "\n",
        "model.add(keras.layers.Conv2D(filters=128, kernel_size=(5,5), padding = 'same', activation='relu',\\\n",
        "                 input_shape=(img_size,img_size,1)))\n",
        "model.add(keras.layers.MaxPooling2D(pool_size=(2,2), strides=(2,2)))\n",
        "model.add(keras.layers.Conv2D(filters=256, kernel_size=(3,3) , padding = 'same', activation='relu'))\n",
        "model.add(keras.layers.MaxPooling2D(pool_size=(2,2)))\n",
        "\n",
        "model.add(keras.layers.Flatten())\n",
        "model.add(keras.layers.Dense(units=1024, activation='relu'))\n",
        "model.add(keras.layers.Dropout(.5))\n",
        "model.add(keras.layers.Dense(units=num_classes, activation='softmax'))\n",
        "model.compile(loss='categorical_crossentropy', optimizer='Adam', metrics=['accuracy'])\n",
        "model.summary()"
      ],
      "execution_count": 0,
      "outputs": [
        {
          "output_type": "stream",
          "text": [
            "WARNING:tensorflow:From /usr/local/lib/python3.6/dist-packages/tensorflow_core/python/ops/resource_variable_ops.py:1630: calling BaseResourceVariable.__init__ (from tensorflow.python.ops.resource_variable_ops) with constraint is deprecated and will be removed in a future version.\n",
            "Instructions for updating:\n",
            "If using Keras pass *_constraint arguments to layers.\n",
            "Model: \"sequential\"\n",
            "_________________________________________________________________\n",
            "Layer (type)                 Output Shape              Param #   \n",
            "=================================================================\n",
            "conv2d (Conv2D)              (None, 28, 28, 64)        1664      \n",
            "_________________________________________________________________\n",
            "max_pooling2d (MaxPooling2D) (None, 14, 14, 64)        0         \n",
            "_________________________________________________________________\n",
            "conv2d_1 (Conv2D)            (None, 14, 14, 128)       204928    \n",
            "_________________________________________________________________\n",
            "max_pooling2d_1 (MaxPooling2 (None, 7, 7, 128)         0         \n",
            "_________________________________________________________________\n",
            "conv2d_2 (Conv2D)            (None, 7, 7, 256)         295168    \n",
            "_________________________________________________________________\n",
            "max_pooling2d_2 (MaxPooling2 (None, 3, 3, 256)         0         \n",
            "_________________________________________________________________\n",
            "flatten (Flatten)            (None, 2304)              0         \n",
            "_________________________________________________________________\n",
            "dense (Dense)                (None, 1024)              2360320   \n",
            "_________________________________________________________________\n",
            "dropout (Dropout)            (None, 1024)              0         \n",
            "_________________________________________________________________\n",
            "dense_1 (Dense)              (None, 47)                48175     \n",
            "=================================================================\n",
            "Total params: 2,910,255\n",
            "Trainable params: 2,910,255\n",
            "Non-trainable params: 0\n",
            "_________________________________________________________________\n"
          ],
          "name": "stdout"
        }
      ]
    },
    {
      "cell_type": "code",
      "metadata": {
        "id": "ymfnzfuoW0Ni",
        "colab_type": "code",
        "outputId": "90c05a18-0577-475d-b021-4b593ce3e6f1",
        "colab": {
          "base_uri": "https://localhost:8080/",
          "height": 191
        }
      },
      "source": [
        "for layer in model.layers:\n",
        "    print(layer.get_output_at(0).get_shape().as_list())"
      ],
      "execution_count": 0,
      "outputs": [
        {
          "output_type": "stream",
          "text": [
            "[None, 28, 28, 64]\n",
            "[None, 14, 14, 64]\n",
            "[None, 14, 14, 128]\n",
            "[None, 7, 7, 128]\n",
            "[None, 7, 7, 256]\n",
            "[None, 3, 3, 256]\n",
            "[None, 2304]\n",
            "[None, 1024]\n",
            "[None, 1024]\n",
            "[None, 47]\n"
          ],
          "name": "stdout"
        }
      ]
    },
    {
      "cell_type": "code",
      "metadata": {
        "id": "rexmAH1iW6JH",
        "colab_type": "code",
        "outputId": "8d88e614-a7b3-4827-8aa3-96c04a44e197",
        "colab": {
          "base_uri": "https://localhost:8080/",
          "height": 34
        }
      },
      "source": [
        "X, y = img_label_load(train_data_path)\n",
        "print(X.shape)\n"
      ],
      "execution_count": 0,
      "outputs": [
        {
          "output_type": "stream",
          "text": [
            "(112800, 28, 28, 1)\n"
          ],
          "name": "stdout"
        }
      ]
    },
    {
      "cell_type": "code",
      "metadata": {
        "id": "lvhnvcpLW_YV",
        "colab_type": "code",
        "outputId": "9df1fec2-1208-403b-f1ef-76f9b8b1e79e",
        "colab": {
          "base_uri": "https://localhost:8080/",
          "height": 732
        }
      },
      "source": [
        "data_generator = keras.preprocessing.image.ImageDataGenerator(validation_split=.2)\n",
        "data_generator_with_aug = keras.preprocessing.image.ImageDataGenerator(validation_split=.2,\n",
        "                                            width_shift_range=.2, height_shift_range=.2,\n",
        "                                            rotation_range=60, zoom_range=.2, shear_range=.3)\n",
        "\n",
        "training_data_generator = data_generator.flow(X, y, subset='training')\n",
        "validation_data_generator = data_generator.flow(X, y, subset='validation')\n",
        "history = model.fit_generator(training_data_generator, \n",
        "                              steps_per_epoch=500, epochs=10, # can change epochs to 10\n",
        "                              validation_data=validation_data_generator)"
      ],
      "execution_count": 0,
      "outputs": [
        {
          "output_type": "stream",
          "text": [
            "Epoch 1/10\n",
            "498/500 [============================>.] - ETA: 0s - loss: 1.3414 - acc: 0.6108Epoch 1/10\n",
            "705/500 [==========================================] - 5s 7ms/step - loss: 0.5893 - acc: 0.8120\n",
            "500/500 [==============================] - 14s 29ms/step - loss: 1.3379 - acc: 0.6114 - val_loss: 0.5786 - val_acc: 0.8120\n",
            "Epoch 2/10\n",
            "496/500 [============================>.] - ETA: 0s - loss: 0.5862 - acc: 0.8037Epoch 1/10\n",
            "705/500 [==========================================] - 5s 7ms/step - loss: 0.4845 - acc: 0.8419\n",
            "500/500 [==============================] - 12s 25ms/step - loss: 0.5858 - acc: 0.8037 - val_loss: 0.4549 - val_acc: 0.8419\n",
            "Epoch 3/10\n",
            "497/500 [============================>.] - ETA: 0s - loss: 0.5120 - acc: 0.8268Epoch 1/10\n",
            "705/500 [==========================================] - 5s 7ms/step - loss: 0.4297 - acc: 0.8582\n",
            "500/500 [==============================] - 12s 25ms/step - loss: 0.5111 - acc: 0.8273 - val_loss: 0.4127 - val_acc: 0.8582\n",
            "Epoch 4/10\n",
            "499/500 [============================>.] - ETA: 0s - loss: 0.4560 - acc: 0.8400Epoch 1/10\n",
            "705/500 [==========================================] - 5s 7ms/step - loss: 0.3958 - acc: 0.8643\n",
            "500/500 [==============================] - 13s 25ms/step - loss: 0.4565 - acc: 0.8398 - val_loss: 0.3879 - val_acc: 0.8643\n",
            "Epoch 5/10\n",
            "497/500 [============================>.] - ETA: 0s - loss: 0.4353 - acc: 0.8468Epoch 1/10\n",
            "705/500 [==========================================] - 5s 7ms/step - loss: 0.4302 - acc: 0.8661\n",
            "500/500 [==============================] - 13s 25ms/step - loss: 0.4358 - acc: 0.8466 - val_loss: 0.3896 - val_acc: 0.8661\n",
            "Epoch 6/10\n",
            "498/500 [============================>.] - ETA: 0s - loss: 0.4078 - acc: 0.8584Epoch 1/10\n",
            "705/500 [==========================================] - 5s 7ms/step - loss: 0.3965 - acc: 0.8705\n",
            "500/500 [==============================] - 13s 26ms/step - loss: 0.4074 - acc: 0.8585 - val_loss: 0.3684 - val_acc: 0.8705\n",
            "Epoch 7/10\n",
            "497/500 [============================>.] - ETA: 0s - loss: 0.3809 - acc: 0.8654Epoch 1/10\n",
            "705/500 [==========================================] - 5s 7ms/step - loss: 0.3883 - acc: 0.8594\n",
            "500/500 [==============================] - 13s 25ms/step - loss: 0.3811 - acc: 0.8654 - val_loss: 0.3776 - val_acc: 0.8594\n",
            "Epoch 8/10\n",
            "499/500 [============================>.] - ETA: 0s - loss: 0.3699 - acc: 0.8647Epoch 1/10\n",
            "705/500 [==========================================] - 5s 7ms/step - loss: 0.3664 - acc: 0.8778\n",
            "500/500 [==============================] - 13s 25ms/step - loss: 0.3700 - acc: 0.8646 - val_loss: 0.3480 - val_acc: 0.8778\n",
            "Epoch 9/10\n",
            "498/500 [============================>.] - ETA: 0s - loss: 0.3829 - acc: 0.8643Epoch 1/10\n",
            "705/500 [==========================================] - 5s 7ms/step - loss: 0.3962 - acc: 0.8730\n",
            "500/500 [==============================] - 13s 26ms/step - loss: 0.3829 - acc: 0.8644 - val_loss: 0.3633 - val_acc: 0.8730\n",
            "Epoch 10/10\n",
            "496/500 [============================>.] - ETA: 0s - loss: 0.3872 - acc: 0.8618Epoch 1/10\n",
            "705/500 [==========================================] - 5s 7ms/step - loss: 0.3495 - acc: 0.8766\n",
            "500/500 [==============================] - 13s 25ms/step - loss: 0.3873 - acc: 0.8616 - val_loss: 0.3527 - val_acc: 0.8766\n"
          ],
          "name": "stdout"
        }
      ]
    },
    {
      "cell_type": "code",
      "metadata": {
        "id": "RF8lQ0fRXKTZ",
        "colab_type": "code",
        "colab": {}
      },
      "source": [
        "test_X, test_y = img_label_load(test_data_path)\n",
        "test_data_generator = data_generator.flow(X, y)\n",
        "\n"
      ],
      "execution_count": 0,
      "outputs": []
    },
    {
      "cell_type": "code",
      "metadata": {
        "id": "vmkQwx9lXLjx",
        "colab_type": "code",
        "outputId": "a383478a-423c-496e-9475-7ea4f01b2b6d",
        "colab": {
          "base_uri": "https://localhost:8080/",
          "height": 281
        }
      },
      "source": [
        "test_data = pd.read_csv(test_data_path, header=None)\n",
        "show_img(test_data,3)"
      ],
      "execution_count": 0,
      "outputs": [
        {
          "output_type": "display_data",
          "data": {
            "image/png": "[encoded data removed]",
            "text/plain": [
              "<Figure size 432x288 with 1 Axes>"
            ]
          },
          "metadata": {
            "tags": []
          }
        }
      ]
    },
    {
      "cell_type": "code",
      "metadata": {
        "id": "0gwVROCKXPtV",
        "colab_type": "code",
        "colab": {}
      },
      "source": [
        "X_test, y_test = img_label_load(test_data_path)\n",
        "def run_prediction(idx):\n",
        "  result = np.argmax(model.predict(X_test[idx:idx+1]))\n",
        "   \n",
        "  print('Prediction: ', result, ', Label: ', class_mapping[result])\n",
        "  print('Target: ', test_data.values[idx,0])\n",
        "    \n",
        "  show_img(test_data, idx)  "
      ],
      "execution_count": 0,
      "outputs": []
    },
    {
      "cell_type": "code",
      "metadata": {
        "id": "K5exSXS7XpBs",
        "colab_type": "code",
        "outputId": "acb972e9-1226-4872-b10b-78b4b6d4ab48",
        "colab": {
          "base_uri": "https://localhost:8080/",
          "height": 594
        }
      },
      "source": [
        "import random\n",
        "\n",
        "for _ in range(1,10):\n",
        "    idx = random.randint(0, 47-1)\n",
        "    run_prediction(idx)"
      ],
      "execution_count": 0,
      "outputs": [
        {
          "output_type": "stream",
          "text": [
            "Prediction:  8 , Label:  8\n",
            "Target:  8\n",
            "Prediction:  1 , Label:  1\n",
            "Target:  1\n",
            "Prediction:  12 , Label:  C\n",
            "Target:  12\n",
            "Prediction:  21 , Label:  L\n",
            "Target:  12\n",
            "Prediction:  16 , Label:  G\n",
            "Target:  16\n",
            "Prediction:  9 , Label:  9\n",
            "Target:  16\n",
            "Prediction:  16 , Label:  G\n",
            "Target:  16\n",
            "Prediction:  5 , Label:  5\n",
            "Target:  5\n",
            "Prediction:  11 , Label:  B\n",
            "Target:  11\n"
          ],
          "name": "stdout"
        },
        {
          "output_type": "display_data",
          "data": {
            "image/png": "[encoded data removed]",
            "text/plain": [
              "<Figure size 432x288 with 1 Axes>"
            ]
          },
          "metadata": {
            "tags": []
          }
        }
      ]
    },
    {
      "cell_type": "code",
      "metadata": {
        "id": "J2L7w1YGXv-X",
        "colab_type": "code",
        "outputId": "5d13a437-b979-4bd0-bdb3-2a14923840e6",
        "colab": {
          "base_uri": "https://localhost:8080/",
          "height": 298
        }
      },
      "source": [
        "\n",
        "\n",
        "show_img(test_data, 123)\n",
        "np.argmax(y_test[123])\n",
        "\n"
      ],
      "execution_count": 0,
      "outputs": [
        {
          "output_type": "execute_result",
          "data": {
            "text/plain": [
              "38"
            ]
          },
          "metadata": {
            "tags": []
          },
          "execution_count": 21
        },
        {
          "output_type": "display_data",
          "data": {
            "image/png": "[encoded data removed]",
            "text/plain": [
              "<Figure size 432x288 with 1 Axes>"
            ]
          },
          "metadata": {
            "tags": []
          }
        }
      ]
    },
    {
      "cell_type": "code",
      "metadata": {
        "id": "pDagE-ecXySP",
        "colab_type": "code",
        "outputId": "3de2e3f5-e170-4cfe-de4f-8b5a06a9eba6",
        "colab": {
          "base_uri": "https://localhost:8080/",
          "height": 573
        }
      },
      "source": [
        "# accuracy\n",
        "plt.plot(history.history['acc'])\n",
        "plt.plot(history.history['val_acc'])\n",
        "plt.title('model accuracy')\n",
        "plt.ylabel('accuracy')\n",
        "plt.xlabel('epoch')\n",
        "plt.legend(['train', 'validation'], loc='lower right')\n",
        "plt.show()\n",
        "\n",
        "# loss\n",
        "plt.plot(history.history['loss'])\n",
        "plt.plot(history.history['val_loss'])\n",
        "plt.title('model loss')\n",
        "plt.ylabel('loss')\n",
        "plt.xlabel('epoch')\n",
        "plt.legend(['train', 'validation'], loc='upper right')\n",
        "plt.show()"
      ],
      "execution_count": 0,
      "outputs": [
        {
          "output_type": "display_data",
          "data": {
            "image/png": "[encoded data removed]",
            "text/plain": [
              "<Figure size 432x288 with 1 Axes>"
            ]
          },
          "metadata": {
            "tags": []
          }
        },
        {
          "output_type": "display_data",
          "data": {
            "image/png": "[encoded data removed]",
            "text/plain": [
              "<Figure size 432x288 with 1 Axes>"
            ]
          },
          "metadata": {
            "tags": []
          }
        }
      ]
    },
    {
      "cell_type": "code",
      "metadata": {
        "id": "kwU0hPgS2TEN",
        "colab_type": "code",
        "colab": {}
      },
      "source": [
        "from keras.models import load_model\n",
        "\n",
        "model.save('my_model.h5')"
      ],
      "execution_count": 0,
      "outputs": []
    },
    {
      "cell_type": "code",
      "metadata": {
        "id": "qdfAd6pZ2cnr",
        "colab_type": "code",
        "outputId": "eb7e4808-eafb-418a-c78a-97a8c3efadfb",
        "colab": {
          "base_uri": "https://localhost:8080/",
          "height": 141
        }
      },
      "source": [
        "import keras\n",
        "from keras.models import load_model\n",
        "import tensorflow as tf \n",
        "classifierLoad = tf.keras.models.load_model('my_model.h5')\n"
      ],
      "execution_count": 0,
      "outputs": [
        {
          "output_type": "stream",
          "text": [
            "WARNING:tensorflow:From /usr/local/lib/python3.6/dist-packages/tensorflow_core/python/ops/init_ops.py:97: calling GlorotUniform.__init__ (from tensorflow.python.ops.init_ops) with dtype is deprecated and will be removed in a future version.\n",
            "Instructions for updating:\n",
            "Call initializer instance with the dtype argument instead of passing it to the constructor\n",
            "WARNING:tensorflow:From /usr/local/lib/python3.6/dist-packages/tensorflow_core/python/ops/init_ops.py:97: calling Zeros.__init__ (from tensorflow.python.ops.init_ops) with dtype is deprecated and will be removed in a future version.\n",
            "Instructions for updating:\n",
            "Call initializer instance with the dtype argument instead of passing it to the constructor\n"
          ],
          "name": "stdout"
        }
      ]
    }
  ]
}