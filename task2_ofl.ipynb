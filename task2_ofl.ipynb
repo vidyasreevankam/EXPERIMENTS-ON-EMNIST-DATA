{
  "nbformat": 4,
  "nbformat_minor": 0,
  "metadata": {
    "kernelspec": {
      "name": "python3",
      "display_name": "Python 3"
    },
    "language_info": {
      "codemirror_mode": {
        "name": "ipython",
        "version": 3
      },
      "file_extension": ".py",
      "mimetype": "text/x-python",
      "name": "python",
      "nbconvert_exporter": "python",
      "pygments_lexer": "ipython3",
      "version": "3.7.3"
    },
    "colab": {
      "name": "task2@ofl.ipynb",
      "provenance": [],
      "collapsed_sections": [],
      "machine_shape": "hm"
    },
    "accelerator": "TPU"
  },
  "cells": [
    {
      "cell_type": "code",
      "metadata": {
        "id": "tovS4yxwq18B",
        "colab_type": "code",
        "colab": {
          "base_uri": "https://localhost:8080/",
          "height": 127
        },
        "outputId": "b6d9b476-fcce-473a-931a-887828a5528e"
      },
      "source": [
        "from google.colab import drive\n",
        "drive.mount('/content/drive')"
      ],
      "execution_count": 1,
      "outputs": [
        {
          "output_type": "stream",
          "text": [
            "Go to this URL in a browser: https://accounts.google.com/o/oauth2/auth?client_id=947318989803-6bn6qk8qdgf4n4g3pfee6491hc0brc4i.apps.googleusercontent.com&redirect_uri=urn%3Aietf%3Awg%3Aoauth%3A2.0%3Aoob&scope=email%20https%3A%2F%2Fwww.googleapis.com%2Fauth%2Fdocs.test%20https%3A%2F%2Fwww.googleapis.com%2Fauth%2Fdrive%20https%3A%2F%2Fwww.googleapis.com%2Fauth%2Fdrive.photos.readonly%20https%3A%2F%2Fwww.googleapis.com%2Fauth%2Fpeopleapi.readonly&response_type=code\n",
            "\n",
            "Enter your authorization code:\n",
            "··········\n",
            "Mounted at /content/drive\n"
          ],
          "name": "stdout"
        }
      ]
    },
    {
      "cell_type": "code",
      "metadata": {
        "id": "Plie0JnJqqPT",
        "colab_type": "code",
        "colab": {}
      },
      "source": [
        "from tensorflow import keras\n",
        "import numpy as np\n",
        "import matplotlib.pyplot as plt\n",
        "import pandas as pd\n"
      ],
      "execution_count": 0,
      "outputs": []
    },
    {
      "cell_type": "code",
      "metadata": {
        "id": "oP5v4qF4rL8B",
        "colab_type": "code",
        "colab": {}
      },
      "source": [
        "import zipfile\n",
        "from google.colab import drive\n",
        "\n",
        "zip_ref = zipfile.ZipFile(\"/content/drive/My Drive/Character + Digits data.zip/Character + Digits data/characters-digits-train.zip\", 'r')#LOCATION OF FILE\n",
        "zip_ref.extractall(\"/content/emnist\")#EXTRACT TO EMNIST FOLDER\n",
        "zip_ref.close()"
      ],
      "execution_count": 0,
      "outputs": []
    },
    {
      "cell_type": "code",
      "metadata": {
        "id": "dVKzX5FZrPjO",
        "colab_type": "code",
        "colab": {}
      },
      "source": [
        "import zipfile\n",
        "from google.colab import drive\n",
        "\n",
        "zip_ref = zipfile.ZipFile(\"/content/drive/My Drive/Character + Digits data.zip/Character + Digits data/characters-digits-test.zip\", 'r')#LOCATION OF FILE\n",
        "zip_ref.extractall(\"/content/emnist\")#EXTRACT TO EMNIST FOLDER\n",
        "zip_ref.close()"
      ],
      "execution_count": 0,
      "outputs": []
    },
    {
      "cell_type": "code",
      "metadata": {
        "id": "NADHS0mlqqPZ",
        "colab_type": "code",
        "colab": {}
      },
      "source": [
        "train_data_path = '/content/emnist/characters-digits-train.csv'#PATH OF TRAIN DATA\n",
        "test_data_path = '/content/emnist/characters-digits-test.csv'#PATH OF TEST DATA"
      ],
      "execution_count": 0,
      "outputs": []
    },
    {
      "cell_type": "code",
      "metadata": {
        "id": "e7EUWOWZqqPe",
        "colab_type": "code",
        "colab": {}
      },
      "source": [
        "train_data = pd.read_csv(train_data_path,header=None)\n",
        "test_data = pd.read_csv(test_data_path,header = None)"
      ],
      "execution_count": 0,
      "outputs": []
    },
    {
      "cell_type": "code",
      "metadata": {
        "id": "E2nN4cy9qqPh",
        "colab_type": "code",
        "colab": {}
      },
      "source": [
        "class_mapping='0123456789ABCDEFGHIJKLMNOPQRSTUVWXYZabdefghnqrt'\n",
        "class_mapping1 = ['even','odd','even','odd','even','odd','even','odd','even','odd','Vowel','consonant','consonant','consonnat','Vowel',\n",
        "                  'consonant','consonant','consonant','vowel','consonant','consonant','consonant','consonant','consonant','vowel',\n",
        "                  'consonant','consonant','consonant','consonant','consonant','vowel','consonant','consonant','consonant','consonant',\n",
        "                  'consonant','vowel','consonant','consonnat','Vowel','consonant','consonant','consonant','consonant','consonant',\n",
        "                  'consonant','constant']"
      ],
      "execution_count": 0,
      "outputs": []
    },
    {
      "cell_type": "code",
      "metadata": {
        "id": "wNn3Bt8uqqPm",
        "colab_type": "code",
        "colab": {
          "base_uri": "https://localhost:8080/",
          "height": 269
        },
        "outputId": "3945aa87-50a5-4acc-f84d-7b1b7a720e4e"
      },
      "source": [
        "num_classes = 47\n",
        "row_num = 8\n",
        "plt.imshow(train_data.values[row_num,1:].reshape([28, 28]), cmap='Greys_r')\n",
        "\n",
        "plt.show()"
      ],
      "execution_count": 8,
      "outputs": [
        {
          "output_type": "display_data",
          "data": {
            "image/png": "[encoded data removed]",
            "text/plain": [
              "<Figure size 432x288 with 1 Axes>"
            ]
          },
          "metadata": {
            "tags": []
          }
        }
      ]
    },
    {
      "cell_type": "code",
      "metadata": {
        "id": "-PCr9YgIqqPt",
        "colab_type": "code",
        "colab": {}
      },
      "source": [
        "def show_img(data,row_num):\n",
        "    img_flip = np.transpose(train_data.values[row_num,1:].reshape(28,28))\n",
        "    plt.title(\"Class:\" + str(data.values[row_num,0]) + \"     Label:\" + str(class_mapping1[data.values[row_num,0]]))\n",
        "    plt.imshow(img_flip,cmap = 'Greys_r')\n",
        "    \n",
        "    plt.show()"
      ],
      "execution_count": 0,
      "outputs": []
    },
    {
      "cell_type": "code",
      "metadata": {
        "id": "xQk1TveAqqPw",
        "colab_type": "code",
        "colab": {
          "base_uri": "https://localhost:8080/",
          "height": 281
        },
        "outputId": "2c073931-e895-42a5-ea7e-cc2f00466719"
      },
      "source": [
        "show_img(train_data,10)"
      ],
      "execution_count": 10,
      "outputs": [
        {
          "output_type": "display_data",
          "data": {
            "image/png": "[encoded data removed]",
            "text/plain": [
              "<Figure size 432x288 with 1 Axes>"
            ]
          },
          "metadata": {
            "tags": []
          }
        }
      ]
    },
    {
      "cell_type": "code",
      "metadata": {
        "id": "kedd4h68qqPz",
        "colab_type": "code",
        "colab": {}
      },
      "source": [
        "num_classes = 47 \n",
        "img_size = 28\n",
        "\n",
        "def img_label_load(data_path, num_classes=None):\n",
        "    data = pd.read_csv(data_path, header=None)\n",
        "    data_rows = len(data)\n",
        "    if not num_classes:\n",
        "        num_classes = len(data[0].unique())\n",
        "    \n",
        "    # this assumes square imgs. Should be 28x28\n",
        "    img_size = int(np.sqrt(len(data.iloc[0][1:])))\n",
        "    \n",
        "    # Images need to be transposed. This line also does the reshaping needed.\n",
        "    imgs = np.transpose(data.values[:,1:].reshape(data_rows, img_size, img_size, 1), axes=[0,2,1,3]) # img_size * img_size arrays\n",
        "    \n",
        "    labels = keras.utils.to_categorical(data.values[:,0], num_classes) # one-hot encoding vectors\n",
        "    \n",
        "    return imgs/255., labels"
      ],
      "execution_count": 0,
      "outputs": []
    },
    {
      "cell_type": "code",
      "metadata": {
        "id": "8TeuCIADqqP3",
        "colab_type": "code",
        "colab": {
          "base_uri": "https://localhost:8080/",
          "height": 559
        },
        "outputId": "1dc4861d-d25a-4d5d-a5a9-b10f8daa8a7d"
      },
      "source": [
        "model = keras.models.Sequential()\n",
        "model.add(keras.layers.Conv2D(filters = 11 ,kernel_size = (5,5) ,strides = 1 , activation = 'relu',\n",
        "                              input_shape=(img_size,img_size,1) ))\n",
        "\n",
        "model.add(keras.layers.Conv2D(filters = 21,kernel_size =(3,3) , strides = 1, activation = 'relu'))\n",
        "model.add(keras.layers.Conv2D(filters = 31,kernel_size =(3,3) , strides = 1, activation = 'relu'))\n",
        "model.add(keras.layers.MaxPooling2D(pool_size=(2,2)))\n",
        "\n",
        "model.add(keras.layers.Conv2D(filters = 41,kernel_size =(3,3) , strides = 1, activation = 'relu'))\n",
        "model.add(keras.layers.MaxPooling2D(pool_size=(2,2)))\n",
        "\n",
        "model.add(keras.layers.Flatten())\n",
        "model.add(keras.layers.Dense(units = 512,activation = 'relu'))\n",
        "model.add(keras.layers.Dense(units = num_classes,activation = 'softmax'))\n",
        "\n",
        "model.compile(loss = 'categorical_crossentropy', optimizer = 'Adam', metrics = ['accuracy'])\n",
        "\n",
        "model.summary()"
      ],
      "execution_count": 12,
      "outputs": [
        {
          "output_type": "stream",
          "text": [
            "WARNING:tensorflow:From /usr/local/lib/python3.6/dist-packages/tensorflow_core/python/ops/resource_variable_ops.py:1630: calling BaseResourceVariable.__init__ (from tensorflow.python.ops.resource_variable_ops) with constraint is deprecated and will be removed in a future version.\n",
            "Instructions for updating:\n",
            "If using Keras pass *_constraint arguments to layers.\n",
            "Model: \"sequential\"\n",
            "_________________________________________________________________\n",
            "Layer (type)                 Output Shape              Param #   \n",
            "=================================================================\n",
            "conv2d (Conv2D)              (None, 24, 24, 11)        286       \n",
            "_________________________________________________________________\n",
            "conv2d_1 (Conv2D)            (None, 22, 22, 21)        2100      \n",
            "_________________________________________________________________\n",
            "conv2d_2 (Conv2D)            (None, 20, 20, 31)        5890      \n",
            "_________________________________________________________________\n",
            "max_pooling2d (MaxPooling2D) (None, 10, 10, 31)        0         \n",
            "_________________________________________________________________\n",
            "conv2d_3 (Conv2D)            (None, 8, 8, 41)          11480     \n",
            "_________________________________________________________________\n",
            "max_pooling2d_1 (MaxPooling2 (None, 4, 4, 41)          0         \n",
            "_________________________________________________________________\n",
            "flatten (Flatten)            (None, 656)               0         \n",
            "_________________________________________________________________\n",
            "dense (Dense)                (None, 512)               336384    \n",
            "_________________________________________________________________\n",
            "dense_1 (Dense)              (None, 47)                24111     \n",
            "=================================================================\n",
            "Total params: 380,251\n",
            "Trainable params: 380,251\n",
            "Non-trainable params: 0\n",
            "_________________________________________________________________\n"
          ],
          "name": "stdout"
        }
      ]
    },
    {
      "cell_type": "code",
      "metadata": {
        "id": "EKdz3-3tqqP-",
        "colab_type": "code",
        "colab": {
          "base_uri": "https://localhost:8080/",
          "height": 53
        },
        "outputId": "35577186-353c-4017-90ad-b348ac858763"
      },
      "source": [
        "X, y = img_label_load(train_data_path)\n",
        "print(X.shape)\n",
        "print(y.shape)"
      ],
      "execution_count": 13,
      "outputs": [
        {
          "output_type": "stream",
          "text": [
            "(112800, 28, 28, 1)\n",
            "(112800, 47)\n"
          ],
          "name": "stdout"
        }
      ]
    },
    {
      "cell_type": "code",
      "metadata": {
        "id": "hiRQ9O5OqqQI",
        "colab_type": "code",
        "colab": {
          "base_uri": "https://localhost:8080/",
          "height": 179
        },
        "outputId": "fbf0ea5c-de7f-4b8a-c6c7-6fa354693087"
      },
      "source": [
        "for layer in model.layers:\n",
        "    print(layer.get_output_at(0).get_shape().as_list())"
      ],
      "execution_count": 15,
      "outputs": [
        {
          "output_type": "stream",
          "text": [
            "[None, 24, 24, 11]\n",
            "[None, 22, 22, 21]\n",
            "[None, 20, 20, 31]\n",
            "[None, 10, 10, 31]\n",
            "[None, 8, 8, 41]\n",
            "[None, 4, 4, 41]\n",
            "[None, 656]\n",
            "[None, 512]\n",
            "[None, 47]\n"
          ],
          "name": "stdout"
        }
      ]
    },
    {
      "cell_type": "code",
      "metadata": {
        "id": "6OW_L2bFutyS",
        "colab_type": "code",
        "colab": {
          "base_uri": "https://localhost:8080/",
          "height": 737
        },
        "outputId": "5983b855-eb60-4180-ca7e-1c015df0e08b"
      },
      "source": [
        "data_generator = keras.preprocessing.image.ImageDataGenerator(validation_split=.2)\n",
        "data_generator_with_aug = keras.preprocessing.image.ImageDataGenerator(validation_split=.2,\n",
        "                                            width_shift_range=.2, height_shift_range=.2,\n",
        "                                            rotation_range=60, zoom_range=.2, shear_range=.3)\n",
        "\n",
        "training_data_generator = data_generator.flow(X, y, subset='training')\n",
        "validation_data_generator = data_generator.flow(X, y, subset='validation')\n",
        "history = model.fit_generator(training_data_generator, \n",
        "                              steps_per_epoch=500, epochs=10, # can change epochs to 10\n",
        "                              validation_data=validation_data_generator)"
      ],
      "execution_count": 16,
      "outputs": [
        {
          "output_type": "stream",
          "text": [
            "Epoch 1/10\n",
            "495/500 [============================>.] - ETA: 0s - loss: 1.1847 - acc: 0.6547Epoch 1/10\n",
            "705/500 [==========================================] - 3s 4ms/step - loss: 0.6494 - acc: 0.7785\n",
            "500/500 [==============================] - 9s 18ms/step - loss: 1.1801 - acc: 0.6560 - val_loss: 0.6850 - val_acc: 0.7785\n",
            "Epoch 2/10\n",
            "499/500 [============================>.] - ETA: 0s - loss: 0.6235 - acc: 0.7945Epoch 1/10\n",
            "705/500 [==========================================] - 3s 4ms/step - loss: 0.5261 - acc: 0.8098\n",
            "500/500 [==============================] - 9s 18ms/step - loss: 0.6232 - acc: 0.7946 - val_loss: 0.5785 - val_acc: 0.8098\n",
            "Epoch 3/10\n",
            "496/500 [============================>.] - ETA: 0s - loss: 0.5238 - acc: 0.8223Epoch 1/10\n",
            "705/500 [==========================================] - 3s 4ms/step - loss: 0.5100 - acc: 0.8110\n",
            "500/500 [==============================] - 9s 18ms/step - loss: 0.5230 - acc: 0.8226 - val_loss: 0.5360 - val_acc: 0.8110\n",
            "Epoch 4/10\n",
            "495/500 [============================>.] - ETA: 0s - loss: 0.4629 - acc: 0.8383Epoch 1/10\n",
            "705/500 [==========================================] - 3s 4ms/step - loss: 0.4015 - acc: 0.8474\n",
            "500/500 [==============================] - 9s 18ms/step - loss: 0.4647 - acc: 0.8381 - val_loss: 0.4495 - val_acc: 0.8474\n",
            "Epoch 5/10\n",
            "498/500 [============================>.] - ETA: 0s - loss: 0.4432 - acc: 0.8435Epoch 1/10\n",
            "705/500 [==========================================] - 3s 4ms/step - loss: 0.3959 - acc: 0.8508\n",
            "500/500 [==============================] - 9s 18ms/step - loss: 0.4430 - acc: 0.8436 - val_loss: 0.4331 - val_acc: 0.8508\n",
            "Epoch 6/10\n",
            "497/500 [============================>.] - ETA: 0s - loss: 0.4093 - acc: 0.8518Epoch 1/10\n",
            "705/500 [==========================================] - 3s 4ms/step - loss: 0.4009 - acc: 0.8565\n",
            "500/500 [==============================] - 9s 18ms/step - loss: 0.4090 - acc: 0.8520 - val_loss: 0.4150 - val_acc: 0.8565\n",
            "Epoch 7/10\n",
            "497/500 [============================>.] - ETA: 0s - loss: 0.3801 - acc: 0.8627Epoch 1/10\n",
            "705/500 [==========================================] - 3s 4ms/step - loss: 0.3617 - acc: 0.8625\n",
            "500/500 [==============================] - 9s 18ms/step - loss: 0.3792 - acc: 0.8632 - val_loss: 0.4031 - val_acc: 0.8625\n",
            "Epoch 8/10\n",
            "499/500 [============================>.] - ETA: 0s - loss: 0.3678 - acc: 0.8650Epoch 1/10\n",
            "705/500 [==========================================] - 3s 4ms/step - loss: 0.3752 - acc: 0.8543\n",
            "500/500 [==============================] - 9s 18ms/step - loss: 0.3675 - acc: 0.8652 - val_loss: 0.4027 - val_acc: 0.8543\n",
            "Epoch 9/10\n",
            "498/500 [============================>.] - ETA: 0s - loss: 0.3714 - acc: 0.8640Epoch 1/10\n",
            "705/500 [==========================================] - 3s 4ms/step - loss: 0.3543 - acc: 0.8652\n",
            "500/500 [==============================] - 9s 18ms/step - loss: 0.3711 - acc: 0.8640 - val_loss: 0.3816 - val_acc: 0.8652\n",
            "Epoch 10/10\n",
            "498/500 [============================>.] - ETA: 0s - loss: 0.3642 - acc: 0.8696Epoch 1/10\n",
            "705/500 [==========================================] - 3s 4ms/step - loss: 0.3546 - acc: 0.8630\n",
            "500/500 [==============================] - 9s 18ms/step - loss: 0.3636 - acc: 0.8698 - val_loss: 0.3844 - val_acc: 0.8630\n"
          ],
          "name": "stdout"
        }
      ]
    },
    {
      "cell_type": "code",
      "metadata": {
        "id": "7QqDSLHku6au",
        "colab_type": "code",
        "colab": {
          "base_uri": "https://localhost:8080/",
          "height": 35
        },
        "outputId": "6f23ad5c-83d4-4a40-9b99-74d51ea7f5e3"
      },
      "source": [
        "test_X, test_y = img_label_load(test_data_path)\n",
        "test_data_generator = data_generator.flow(X, y)\n",
        "\n",
        "model.evaluate_generator(test_data_generator)\n"
      ],
      "execution_count": 17,
      "outputs": [
        {
          "output_type": "execute_result",
          "data": {
            "text/plain": [
              "[0.3270429401997979, 0.87822694]"
            ]
          },
          "metadata": {
            "tags": []
          },
          "execution_count": 17
        }
      ]
    },
    {
      "cell_type": "code",
      "metadata": {
        "id": "Es-ftDNIvR1I",
        "colab_type": "code",
        "colab": {
          "base_uri": "https://localhost:8080/",
          "height": 281
        },
        "outputId": "c7f93d77-461e-4ff7-ca27-9fc3ecee8df6"
      },
      "source": [
        "test_data = pd.read_csv(test_data_path, header=None)\n",
        "show_img(test_data,3)"
      ],
      "execution_count": 18,
      "outputs": [
        {
          "output_type": "display_data",
          "data": {
            "image/png": "[encoded data removed]",
            "text/plain": [
              "<Figure size 432x288 with 1 Axes>"
            ]
          },
          "metadata": {
            "tags": []
          }
        }
      ]
    },
    {
      "cell_type": "code",
      "metadata": {
        "id": "JffJrgd_vdPu",
        "colab_type": "code",
        "colab": {
          "base_uri": "https://localhost:8080/",
          "height": 281
        },
        "outputId": "76252c51-a393-49b8-b668-30b97dfb4574"
      },
      "source": [
        "X_test, y_test = img_label_load(test_data_path)\n",
        "def run_prediction(idx):\n",
        "    result = np.argmax(model.predict(X_test[idx:idx+1]))\n",
        "   \n",
        "    print('Prediction: ', result, ', Label: ', class_mapping1[result])\n",
        "    print('Target: ', test_data.values[idx,0])\n",
        "    \n",
        "show_img(test_data, idx)"
      ],
      "execution_count": 25,
      "outputs": [
        {
          "output_type": "display_data",
          "data": {
            "image/png": "[encoded data removed]",
            "text/plain": [
              "<Figure size 432x288 with 1 Axes>"
            ]
          },
          "metadata": {
            "tags": []
          }
        }
      ]
    },
    {
      "cell_type": "code",
      "metadata": {
        "id": "WTdxcV_5visV",
        "colab_type": "code",
        "colab": {
          "base_uri": "https://localhost:8080/",
          "height": 341
        },
        "outputId": "052003b7-d84a-4073-f386-a64e2f0d84a7"
      },
      "source": [
        "import random\n",
        "\n",
        "for _ in range(1,10):\n",
        "    idx = random.randint(0, 47-1)\n",
        "    run_prediction(idx)"
      ],
      "execution_count": 28,
      "outputs": [
        {
          "output_type": "stream",
          "text": [
            "Prediction:  3 , Label:  odd\n",
            "Target:  3\n",
            "Prediction:  6 , Label:  even\n",
            "Target:  6\n",
            "Prediction:  35 , Label:  consonant\n",
            "Target:  2\n",
            "Prediction:  28 , Label:  consonant\n",
            "Target:  28\n",
            "Prediction:  44 , Label:  consonant\n",
            "Target:  44\n",
            "Prediction:  40 , Label:  consonant\n",
            "Target:  40\n",
            "Prediction:  37 , Label:  consonant\n",
            "Target:  37\n",
            "Prediction:  27 , Label:  consonant\n",
            "Target:  11\n",
            "Prediction:  41 , Label:  consonant\n",
            "Target:  44\n"
          ],
          "name": "stdout"
        }
      ]
    }
  ]
}